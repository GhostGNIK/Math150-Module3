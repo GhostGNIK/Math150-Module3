{
 "cells": [
  {
   "cell_type": "code",
   "execution_count": 1,
   "metadata": {},
   "outputs": [
    {
     "name": "stderr",
     "output_type": "stream",
     "text": [
      "[NbConvertApp] Converting notebook Ryan_Module3Assignment17.ipynb to latex\n",
      "[NbConvertApp] Support files will be in Ryan_Module3Assignment17_files\\\n",
      "[NbConvertApp] Making directory Ryan_Module3Assignment17_files\n",
      "[NbConvertApp] Writing 31248 bytes to Ryan_Module3Assignment17.tex\n"
     ]
    },
    {
     "name": "stdout",
     "output_type": "stream",
     "text": [
      "note: Running TeX ...\n",
      "note: Rerunning TeX because \"Ryan_Module3Assignment17.aux\" changed ...\n",
      "note: Running xdvipdfmx ...\n",
      "note: Writing `Ryan_Module3Assignment17.pdf` (775.49 KiB)\n",
      "note: Skipped writing 2 intermediate files (use --keep-intermediates to keep them)\n"
     ]
    },
    {
     "name": "stderr",
     "output_type": "stream",
     "text": [
      "warning: Ryan_Module3Assignment17.tex:477: Underfull \\hbox (badness 10000) in paragraph at lines 476--477\n",
      "warning: Ryan_Module3Assignment17.tex:482: Underfull \\hbox (badness 10000) in paragraph at lines 481--482\n",
      "warning: Ryan_Module3Assignment17.tex:487: Underfull \\hbox (badness 10000) in paragraph at lines 486--487\n",
      "warning: Ryan_Module3Assignment17.tex:499: Underfull \\hbox (badness 10000) in paragraph at lines 498--499\n",
      "warning: Ryan_Module3Assignment17.tex:504: Underfull \\hbox (badness 10000) in paragraph at lines 503--504\n",
      "warning: Ryan_Module3Assignment17.tex:509: Underfull \\hbox (badness 10000) in paragraph at lines 508--509\n",
      "warning: Ryan_Module3Assignment17.tex:521: Underfull \\hbox (badness 10000) in paragraph at lines 520--521\n",
      "warning: Ryan_Module3Assignment17.tex:526: Underfull \\hbox (badness 10000) in paragraph at lines 525--526\n",
      "warning: Ryan_Module3Assignment17.tex:538: Underfull \\hbox (badness 10000) in paragraph at lines 537--538\n",
      "warning: Ryan_Module3Assignment17.tex:550: Underfull \\hbox (badness 10000) in paragraph at lines 549--550\n",
      "warning: Ryan_Module3Assignment17.tex:477: Underfull \\hbox (badness 10000) in paragraph at lines 476--477\n",
      "warning: Ryan_Module3Assignment17.tex:482: Underfull \\hbox (badness 10000) in paragraph at lines 481--482\n",
      "warning: Ryan_Module3Assignment17.tex:487: Underfull \\hbox (badness 10000) in paragraph at lines 486--487\n",
      "warning: Ryan_Module3Assignment17.tex:499: Underfull \\hbox (badness 10000) in paragraph at lines 498--499\n",
      "warning: Ryan_Module3Assignment17.tex:504: Underfull \\hbox (badness 10000) in paragraph at lines 503--504\n",
      "warning: Ryan_Module3Assignment17.tex:509: Underfull \\hbox (badness 10000) in paragraph at lines 508--509\n",
      "warning: Ryan_Module3Assignment17.tex:521: Underfull \\hbox (badness 10000) in paragraph at lines 520--521\n",
      "warning: Ryan_Module3Assignment17.tex:526: Underfull \\hbox (badness 10000) in paragraph at lines 525--526\n",
      "warning: Ryan_Module3Assignment17.tex:538: Underfull \\hbox (badness 10000) in paragraph at lines 537--538\n",
      "warning: Ryan_Module3Assignment17.tex:550: Underfull \\hbox (badness 10000) in paragraph at lines 549--550\n",
      "warning: warnings were issued by the TeX engine; use --print and/or --keep-logs for details.\n"
     ]
    }
   ],
   "source": [
    "!jupyter nbconvert --to latex \"Ryan_Module3Assignment17.ipynb\"\n",
    "\n",
    "!tectonic Ryan_Module3Assignment17.tex"
   ]
  },
  {
   "cell_type": "code",
   "execution_count": null,
   "metadata": {},
   "outputs": [],
   "source": []
  }
 ],
 "metadata": {
  "kernelspec": {
   "display_name": "Basilisk",
   "language": "python",
   "name": "python3"
  },
  "language_info": {
   "codemirror_mode": {
    "name": "ipython",
    "version": 3
   },
   "file_extension": ".py",
   "mimetype": "text/x-python",
   "name": "python",
   "nbconvert_exporter": "python",
   "pygments_lexer": "ipython3",
   "version": "3.11.0"
  }
 },
 "nbformat": 4,
 "nbformat_minor": 2
}
